{
 "cells": [
  {
   "cell_type": "code",
   "execution_count": 66,
   "metadata": {
    "collapsed": true
   },
   "outputs": [],
   "source": [
    "import pandas as pd\n",
    "import numpy as np\n",
    "import os\n",
    "import glob\n",
    "import nltk.data\n",
    "import nltk, re, pprint\n",
    "from nltk import word_tokenize\n",
    "from sklearn.feature_extraction.text import CountVectorizer\n",
    "from sklearn.metrics.pairwise import linear_kernel\n",
    "from nltk.corpus import stopwords\n",
    "from sklearn.feature_extraction.text import TfidfVectorizer\n",
    "from collections import Counter\n",
    "from sklearn.metrics.pairwise import linear_kernel\n",
    "import sqlite3\n",
    "\n",
    "\n",
    "\n",
    "def connect_db():\n",
    "\treturn sqlite3.connect('/Users/sheldon/podcasts/test.db')\n",
    "\n",
    "def create_df_object():\n",
    "\tconn = sqlite3.connect('/Users/sheldon/podcasts/test.db')\n",
    "\tdf = pd.read_sql(\"select * from podcast\",conn)\n",
    "\treturn df\n",
    "\n",
    "df = create_df_object()\n",
    "\n",
    "stop = set(stopwords.words('english'))\n",
    "'''\n",
    "def remove_stop_words(row):\n",
    "    tokens = word_tokenize(str(row))\n",
    "    tokens = [w for w in tokens if not w in stop]\n",
    "    tokens = [word for word in tokens if not \"'\" in word]\n",
    "    return ' '.join(tokens)\n",
    "\n",
    "df['transcribed'] = df['transcribed'].apply(remove_stop_words)\n",
    "\n",
    "def get_top_words(row):\n",
    "    tokens = word_tokenize(str(row))\n",
    "    counter = nltk.FreqDist(tokens)\n",
    "    return counter.most_common(25)\n",
    "\n",
    "df['top_words'] =  df.transcribed.apply(get_top_words)\n",
    "#tf = TfidfVectorizer()\n",
    "'''\n",
    "tf = TfidfVectorizer(analyzer='word', ngram_range=(1,3),min_df = 0, stop_words = 'english')\n",
    "tfidf_matrix = tf.fit_transform(df['transcribed'])\n",
    "copy_matrix = tf.transform(df['transcribed'])\n",
    "cosine_similarities = linear_kernel(tfidf_matrix, tfidf_matrix)"
   ]
  },
  {
   "cell_type": "code",
   "execution_count": 67,
   "metadata": {
    "collapsed": false
   },
   "outputs": [
    {
     "name": "stdout",
     "output_type": "stream",
     "text": [
      "[u'zwerdling mouth trade', u'good news slip', u'good nice', u'good newsof radiation', u'good newsof', u'good news world', u'good news went', u'good news week', u'good news ve', u'good news twin', u'good news thinks', u'good news temper', u'good news storybook', u'good news sees', u'good news hiring', u'good news second', u'good news san', u'good news right', u'good news recommendations', u'good news opening', u'good news okay', u'good news new', u'good news media', u'good news little', u'good news light']\n"
     ]
    },
    {
     "data": {
      "text/plain": [
       "'lectures = [\"this is some food\", \"this is some drink\"]\\nvectorizer = TfidfVectorizer()\\nX = vectorizer.fit_transform(lectures)\\nindices = np.argsort(vectorizer.idf_)[::-1]\\nfeatures = vectorizer.get_feature_names()\\ntop_n = 2\\ntop_features = [features[i] for i in indices[:top_n]]\\nprint top_features'"
      ]
     },
     "execution_count": 67,
     "metadata": {},
     "output_type": "execute_result"
    }
   ],
   "source": [
    "indices = np.argsort(tf.idf_)[::-1]\n",
    "feature_names = tf.get_feature_names()\n",
    "top_n = 25\n",
    "top_features = [feature_names[i] for i in indices[:top_n]]\n",
    "print top_features\n",
    "\n",
    "'''lectures = [\"this is some food\", \"this is some drink\"]\n",
    "vectorizer = TfidfVectorizer()\n",
    "X = vectorizer.fit_transform(lectures)\n",
    "indices = np.argsort(vectorizer.idf_)[::-1]\n",
    "features = vectorizer.get_feature_names()\n",
    "top_n = 2\n",
    "top_features = [features[i] for i in indices[:top_n]]\n",
    "print top_features'''"
   ]
  },
  {
   "cell_type": "code",
   "execution_count": null,
   "metadata": {
    "collapsed": true
   },
   "outputs": [],
   "source": [
    "#trying genism"
   ]
  },
  {
   "cell_type": "code",
   "execution_count": 68,
   "metadata": {
    "collapsed": false
   },
   "outputs": [
    {
     "name": "stdout",
     "output_type": "stream",
     "text": [
      "(u'like', 0.24071265870416453)\n",
      "(u'like', 0.16953929221919495)\n",
      "(u'like', 0.15178888577344432)\n",
      "(u'like', 0.26599877507194869)\n",
      "(u'like', 0.18111983626961034)\n",
      "(u'like', 0.20079463693112398)\n",
      "(u'like', 0.18904763206697089)\n",
      "(u'like', 0.1687774777269041)\n",
      "(u'like', 0.2273983932752662)\n",
      "(u'tommy', 0.27021064224583458)\n",
      "(u'chandler', 0.22907846454480191)\n",
      "(u'elkins', 0.21303314852461949)\n",
      "(u'julius', 0.093043818165899753)\n",
      "(u'petrified', 0.25628525064879321)\n",
      "(u'gender', 0.19378055701049737)\n",
      "(u'danny', 0.073621992122139171)\n",
      "(u'venus fly', 0.12386446234490764)\n",
      "(u'trophy', 0.098003605694790982)\n",
      "(u'crime', 0.12148540114184396)\n",
      "(u'saint louis', 0.1033595476667932)\n",
      "(u'economists', 0.1598993269489119)\n",
      "(u'gift', 0.21192991044398757)\n",
      "(u'sister linda', 0.088409940193915737)\n",
      "(u'financial', 0.21247624919260338)\n",
      "(u'people', 0.078036207111245232)\n",
      "(u'obesity', 0.24769765180761563)\n",
      "(u'coin', 0.32437614040657131)\n",
      "(u'offender', 0.26261421441127869)\n",
      "(u'kidney', 0.29931945484214911)\n",
      "(u'preference', 0.10314730490472233)\n",
      "(u'college', 0.17388799443580535)\n",
      "(u'petty', 0.21394526446896531)\n",
      "(u'sesame street', 0.18390274549062977)\n",
      "(u'music', 0.17470435386345359)\n",
      "(u'marijuana', 0.37110384827125292)\n",
      "(u'milk', 0.24301216035743761)\n",
      "(u'dean', 0.13719063474540563)\n",
      "(u'fridge', 0.14644136607792854)\n",
      "(u'uh uh', 0.11049137398394081)\n",
      "(u'tribune', 0.16578818304858919)\n",
      "(u'cuckoo', 0.10734153903586872)\n",
      "(u'dallas', 0.10840848351309572)\n",
      "(u'jenny', 0.28132104605257147)\n",
      "(u'dean', 0.14428805390746993)\n"
     ]
    },
    {
     "ename": "KeyboardInterrupt",
     "evalue": "",
     "output_type": "error",
     "traceback": [
      "\u001b[0;31m---------------------------------------------------------------------------\u001b[0m",
      "\u001b[0;31mKeyboardInterrupt\u001b[0m                         Traceback (most recent call last)",
      "\u001b[0;32m<ipython-input-68-4029c80b3915>\u001b[0m in \u001b[0;36m<module>\u001b[0;34m()\u001b[0m\n\u001b[1;32m      1\u001b[0m \u001b[0mmat_array\u001b[0m \u001b[0;34m=\u001b[0m \u001b[0mtfidf_matrix\u001b[0m\u001b[0;34m.\u001b[0m\u001b[0mtoarray\u001b[0m\u001b[0;34m(\u001b[0m\u001b[0;34m)\u001b[0m\u001b[0;34m\u001b[0m\u001b[0m\n\u001b[1;32m      2\u001b[0m \u001b[0;32mfor\u001b[0m \u001b[0ml\u001b[0m \u001b[0;32min\u001b[0m \u001b[0mmat_array\u001b[0m\u001b[0;34m:\u001b[0m\u001b[0;34m\u001b[0m\u001b[0m\n\u001b[0;32m----> 3\u001b[0;31m     \u001b[0;32mprint\u001b[0m \u001b[0;34m[\u001b[0m\u001b[0;34m(\u001b[0m\u001b[0mfeature_names\u001b[0m\u001b[0;34m[\u001b[0m\u001b[0mx\u001b[0m\u001b[0;34m]\u001b[0m\u001b[0;34m,\u001b[0m\u001b[0ml\u001b[0m\u001b[0;34m[\u001b[0m\u001b[0mx\u001b[0m\u001b[0;34m]\u001b[0m\u001b[0;34m)\u001b[0m \u001b[0;32mfor\u001b[0m \u001b[0mx\u001b[0m \u001b[0;32min\u001b[0m \u001b[0;34m(\u001b[0m\u001b[0ml\u001b[0m\u001b[0;34m*\u001b[0m\u001b[0;34m-\u001b[0m\u001b[0;36m1\u001b[0m\u001b[0;34m)\u001b[0m\u001b[0;34m.\u001b[0m\u001b[0margsort\u001b[0m\u001b[0;34m(\u001b[0m\u001b[0;34m)\u001b[0m\u001b[0;34m]\u001b[0m\u001b[0;34m[\u001b[0m\u001b[0;34m:\u001b[0m\u001b[0;36m10\u001b[0m\u001b[0;34m]\u001b[0m\u001b[0;34m[\u001b[0m\u001b[0;36m0\u001b[0m\u001b[0;34m]\u001b[0m\u001b[0;34m\u001b[0m\u001b[0m\n\u001b[0m",
      "\u001b[0;31mKeyboardInterrupt\u001b[0m: "
     ]
    }
   ],
   "source": [
    "mat_array = tfidf_matrix.toarray()\n",
    "for l in mat_array: \n",
    "    print [(feature_names[x],l[x]) for x in (l*-1).argsort()][:10][0]"
   ]
  },
  {
   "cell_type": "code",
   "execution_count": 46,
   "metadata": {
    "collapsed": true
   },
   "outputs": [],
   "source": [
    "podcast_id = 3\n",
    "conn = sqlite3.connect('/Users/sheldon/podcasts/test.db')\n",
    "c = conn.cursor()\n",
    "cur = c.execute('select \"index\", episode, series from podcast where \"index\" ={}'.format(podcast_id))\n",
    "db_request = [dict(index=row[0], episode=row[1], series=row[2]) for row in cur.fetchall()]\n",
    "\n",
    "related_pod_index = cosine_similarities.argsort()[podcast_id][::-1]\n",
    "pod_dict = dict(zip(range(0, len(related_pod_index)),related_pod_index))\n",
    "pod_dict = pd.DataFrame({'rank':pod_dict.keys()}, index=pod_dict.values())\n",
    "related_podcasts_df = pd.DataFrame.join(pod_dict, df, how='inner')\n",
    "final_df = related_podcasts_df.sort_values('rank')[1:11][['rank','episode','series','top_words']]\n",
    "related_podcasts = final_df['episode']"
   ]
  },
  {
   "cell_type": "code",
   "execution_count": 50,
   "metadata": {
    "collapsed": false
   },
   "outputs": [
    {
     "name": "stdout",
     "output_type": "stream",
     "text": [
      "0      [(like, 124), (know, 53), (think, 39), (get, 3...\n",
      "5      [(like, 103), (know, 58), (get, 42), (one, 38)...\n",
      "116    [(like, 198), (know, 90), (one, 63), (get, 58)...\n",
      "150    [(like, 234), (would, 165), (know, 164), (good...\n",
      "7      [(like, 88), (get, 54), (one, 44), (know, 37),...\n",
      "1      [(like, 85), (know, 49), (get, 39), (man, 37),...\n",
      "113    [(like, 157), (people, 94), (know, 80), (reall...\n",
      "6      [(like, 83), (know, 35), (yeah, 28), (one, 26)...\n",
      "4      [(like, 73), (know, 34), (get, 29), (one, 22),...\n",
      "8      [(like, 108), (one, 33), (know, 31), (get, 28)...\n",
      "Name: top_words, dtype: object\n"
     ]
    }
   ],
   "source": [
    "with pd.option_context('display.max_rows', 999, 'display.max_columns', 3):\n",
    "    print final_df.top_words"
   ]
  },
  {
   "cell_type": "code",
   "execution_count": 28,
   "metadata": {
    "collapsed": false
   },
   "outputs": [
    {
     "name": "stderr",
     "output_type": "stream",
     "text": [
      "/Users/sheldon/anaconda/envs/capstone/lib/python2.7/site-packages/ipykernel/__main__.py:21: SettingWithCopyWarning: \n",
      "A value is trying to be set on a copy of a slice from a DataFrame.\n",
      "Try using .loc[row_indexer,col_indexer] = value instead\n",
      "\n",
      "See the caveats in the documentation: http://pandas.pydata.org/pandas-docs/stable/indexing.html#indexing-view-versus-copy\n"
     ]
    }
   ],
   "source": [
    "from nltk.tokenize import word_tokenize\n",
    "from nltk.corpus import stopwords\n",
    "'''\n",
    "stopset = set(stopwords.words('english'))\n",
    "\n",
    "with open('sentiment_test.txt', 'r') as text_file:\n",
    "    text = text_file.read()\n",
    "    tokens=word_tokenize(str(text))\n",
    "    tokens = [w for w in tokens if not w in stopset]\n",
    "    print tokens\n",
    "    \n",
    "'''\n",
    "\n",
    "def remove_stop_get_count(row):\n",
    "    tokens = word_tokenize(str(row))\n",
    "    tokens = [w for w in tokens if not w in stop]\n",
    "    tokens = [word for word in tokens if not \"'\" in word]\n",
    "    counter = nltk.FreqDist(tokens)\n",
    "    return counter.most_common(25)\n",
    "\n",
    "test['tokenized'] = test.transcribed.apply(remove_stop_get_count)"
   ]
  },
  {
   "cell_type": "code",
   "execution_count": 48,
   "metadata": {
    "collapsed": false
   },
   "outputs": [
    {
     "data": {
      "text/plain": [
       "'queens supine milton ten minute rama world news every e-mail newsletter embarking mason milch e-mails easy segmentation improving campaign season eighty testing measure performance advanced analytics melted snow better e. mail know queens supported swiss based helping anyone bring ideas life line beautiful way learn free trial swiss based com slash queen whoa nice east indians many dad got back bite going take kids instead sees inexact algebra homework think want know super jack old ugly treadmill thing think obviously freaky ca read boring yeah lay working gets boring slightly yeah every goodness think found back fit end abeyance carousel academy bury us empty bill please deputy c. studios ca believe finally may knew coolly food fifth came idea fudo queens awhile ago man seabees taking something day shall enough instilling much chemistry cameras trigger bombing dad hand upon budzyn bernardino name regis inhalants trying show together really funny began much fines news lying tenderly slip raise browning landslide re yes know inferred ca talk incident super person l. completely inside area though bloodshed plan nobel blood type guessing like beam bestseller come armed thistle facts episode wisdom magical night gangs services lag thirty first birthday head made sanded painted know whether mean know know oh oh oh oh liang midtown honey caro learned recently packed house house brooklyn lad selling anything commitee head time hunter logan writer weakness admires hash tag money gary gone man god hollis glass waters tal y. glass earth michelle tell poor guy guy dorothy think really yelling season one half seven mile got episode sex lies guys top wise got nice clyde adventure history harassment races cabdrivers sexy rob blake happens jury go gospel media sell fake zero kids everything rhymes ever dreamed fact phoebe human brain feel said killed dialing workout today john tool miles many ca fear breaking hanging bring yeah man still amid weight loss carrie meek heap lousy number boyfriend four years last month yet feel okay sell thirty l. bees mind hacked hacked relationship yeah exactly sondheim single maybe needles hanging back day scant even said needs love ballots u. okay well amy savvy life hands aggie gym worked manny need anti clotting bluebird taking home get ready found may seem thirty seven increasing neighbor home gin abby lead away time noted know vineyards napa goodthe gang dixie yeah heed slaying white man arrested number four uneasy movies joanna mine swing face audi ah bad zionism michael one-way streets tank car guy behind us caucus barney likud told bad really mimic journey begins reside somethin close door make pulls car early july flight jani time like see began hands ma doses goes flat need oh oh aim vacancies never seen white person white person sounds like race rate race doubles back raising lane cancel fault line happening radio bill lovely danny knew keep paying finance kind thine nineteen eighties realize car keys might sell scientific people crazy sometimes outlay one drink omni sally society okay amen amen say back son eggs could believe might absorb happening laying right really quiet super driving pain easy leader made mortgage intimate starts asking light flooding villas finance list like throughout back story hand know lynne cheney react u. n. t. t. need call start us city work answer advice blake like likely know anything zealous mind good hap hap hap hap hap hap hap salivate really know angry arm came world mean yeah ancel like merck whining gay suits mind army translate main see later u. n. u. n. pull fallen says share daughter talking kids seems like sort bees think late friday lying cool kropf get wind irena war daughter kind blacks playing one thank doctor beautiful byways benigno hits hey whole thing might see elaine need backpack ziad get apartment hey service like review yeah year new whenever go glad oh pope good work know glad could think whatever fight within white dragon worked blow asked find anna might seen visit days cooling tonsils remain bad one isolated lahaye awning wo white radical oh death snow story spin maria might find attitudes affect wide array united nations aid lamp gave full refinance big nights hands hey actor agree message easy wo recess hey dad suit thou see couple parties meatpacking want outside trying cats fly bei slashed job like know lapped let go cancel iran maybe like one two yards like front blame opposite side street feed cat humming plain sight right hang right side street key come right yeah see cat time come towards zoomed need ten bowed get lynette moment felt grief evening stirred emotions water locked ones like ha-ha-ha ally rabbi like back mayfield unlike right cobblestone streets happen like hap hop white week begat devil night know talking blanket make gets get men flight hide things like outward sign letter ca let mouth alone happens ol santy like id cards city present guy like light like ca hand keepsake meanwhile lukyanov people condition satellite oh hate within rights know minor something tell everyone alive made mad something like well whether gimmicky cuba dickhead paddle work sir well way sounds like excuse wines like god sydney like night keeping tight got mean guys like know kept calling cops thought like bladder psychiatric hat harassing say o. k. like guys like white think people bernie said recoup may lad hide like know calling cops want hour could front line light made unannounced hacked invite know okay sat go ahead call news sitting call cops like people harassing cat record blah blah blah addict bug police car pulled back letting us occurs come assume get card would assume toxic gobs fat idiot okay ad go talk gadget fans guy like real explanation big big salinas like gets greedy blame deadly toxin police offices singers like guy needs mine rosa parks money give us sphere fat see man chilly flight buried shale words many say pope like lines vainly excuse know something really really hurt tonight hands part peak cycle perpetually edges gave bee life love racial like liasson statements want know teeny bigger regained son guy like like talked sound really gotten academy like black dude black white alleys know sometimes means like guy happened none even eagles quote use people listening earth summit people detained city brilliant ozzie colonies use high around late night sent meyer o. hacienda lacking killing yeah know padhuff oh oh heard arrows needed past sure bed naked birthday really think think like fine need break weird goes ironically family bracket tiny accept alike oh like time fancy game ca add college kid couple weeks ago know surprise bound address think know malt bigger stronger get think might guy mind city includes dent numbers also think tonight c. n. glad walk around energy kind like mother think think lives magazines universe sinking fein sell sooner see varies good next one could wear attack lies mind concerned darker durable interpretation yeah gain u. s. army three years dancing naked couple stoops building live never seen like agreement lives main street meeting later site actually buy jury duty played age c. n. n. eyes man assigned shell swayed side mixture women feel objective finds nearly city scenes location printing plant everything walk diana instead painting discos says want look know beautiful look al classic line test mind proved e. ca see light barely get script women people like return going think anything outside advancing per day lands thank like u. s. see know adding said sign established see gender thing bringing bank lacking use night o. thing kids think marry ninety enacting eight new u. know either still yelling waving arms thinking europe pulling coed worked alley give nine minute would saying says nightline minds ansell france seeing owes hand gain ad time someone team sitting exact place great name year man white diamonds mean wo see anything goes oh thinks alice departure previous work tell listeners yet find moved new period artist economy outcry aiming impulse laugh nineteen anything even totally make colleagues eating disorder blessed known thank thy sweet moment buy knowing yeah meanings require plan case goes skiing belongs make happy shared history see play dinner mean know angry whacked tonight u. n. airway make terrible nance sand resigned steamy bones powerful emotional art beautiful live think every insignia believed says see wrong snake isgood job sapporo three usually live want honesty someone complimented hands told think every detail hair tension menace america needs adam apple lining think right take personally make think gotten denied grizzlies organized bonds ca add anything get military affair angering beginning running journeys dogs really like air added made mean want hang life threatening black congressmen okay nine around allison renounce white man matt riding difference three pretty well traveled gains want landesbank goes friday night maybe think even endowment mean could win really new baby soon tonight getting younger yeah like playing goes well still ayyad sadie night technically nagging angular side stand looked ladies night pay least correctly without everyone wait hour day clearly like think stains rarest unit cool wind way yeah know colleen suicide ita hero lethality u. n . . man knife need today john board risk telling moneyline oh hears look things found look brown mary get think think fucked iron glad hey pat theft fifth fifth hangout fuck lake male j. holding cells like bald heinz making emma bob idea c. john vitale ghafar barbed wire scene smell bad one cool old guard necklaces whatever good militant cough yeltsin battered female also somoza good boom hate see contest listener sometimes lives according seat results one satellite time party amazing food injuring comedy lineup hosted s. l. sicily strong campaign party indeed ques love wish granted called radio revelry lawyers neighborhoods insight happening inside back june fourteenth seven thirty died get money turned great contest like one silliness discovered u. n. y. c. dot org slash salaries buy tickets pregnant thatched flour one hand path late night average effects olivia picture probably drunk phoebe snap yet selling sitcoms help little wheelbarrow like beautiful like old white man xena islands leaves actually got hands table legs couple around around beauty sign slow night mean assign u. clear finance ignored got like one hand one hundred camera one storm omelets ala well lemon friends jamie lee married next year waited eight years hand see witnessed club jealous nightand comes clothes beat drums echoes anti annie thank god one back passes love lives went income called old seek bob celadon monday night c. like real angry hardly enough yeah nap inside politics hair mean really mean calm levels frizzell site phenol strippers second males every congressman eight great advances buried different energy house announced line e-mail service like great time nightline man might get aggressive lights dying find like shakespeare lies world like sad high like escaping lying late ya might dad died light disease mice lean cuisine ito longer lying anymore dances easy answers magic manhattan south night important kind like kind see anyone relates need like indian owls like mean like waiting say gauged ears things like walking around like none ignites looking want hear hemming open mind sierras like magic night started kind busy guy darrell might gas really early hope yes insect return world thirty seven idea idea evening dinner setting super saying happiness mean panoramic anselm look towards get air gain sky guarantee threat parties air eight immediately camera everything seems like easily uniting hate women ruins think words array course bad sit mid december lose sight magic might cool know fbi one day sitting awhile relate really want real surprise nora thing knew going pulled legacy resides black man ten inches away prison lying alive easy man need wait turn might add want nineteen eighty vince number man calm knew young man ever got right set black ones think deal eduardo dos presume late role played piano come guys drink samurai like eye speak strait a. b. loran think would lighted see real could years sober learn bob man like man yeah instinct diocese series like brave new zealand find saturday saying hay theater like lights think would like one eye line yeah bad mine glowing light within ten minutes win tonight know analysis like know hear hustle real happy nine let see turned light know wants look good early long hard ca wolf know guy flare code doubt idle got bad teeth enough looking slaves believe batman fans agonizing paramount investment fat lonely tagged yellow cynical gather apt use phrase bob absolutely machine big dismantling also hilarious everything said come easy answer use passes athletes wrath mcnair guy notthat led pay siddiqi oh played tag thank half gary explanation clinton would like manipulate knowing would deserve wheat learn get free ride black white riots said said usually outcome feel gorgeous rec room want share thing girl role play guy recommend enough lost art even art money never scientists results home alive renaissance role play highly recommend really spice relationship rotten button like given word plane secretary housing urban development twist secretary housing urban development deputy secretary housing urban voters resents issue boss nine pushing agenda hard enough jose come washington make friends hope make changes favorite favorite scenario professor senior really needs pass class graduate right stakes high stakes high salaam hoover faster prestigious fill university man girlfriend senior mind western says know know senior intro hardships gim portion church news new masters safety school idea guys vibe says comes comes major office hours monday wednesday three five appointment know something know something abreu wearing provocative tank top little blue skirt within home high heels morning argyle sweater roger button hand khakis chocolate brown loafers bill match look polls pop says excuse home excuse professor lewis like use realizing college hire choose something address one sigh ten old get along uses vessel think teenager failing western says images anything pass said anything says hi looked rank book give german final exceeds intro modern go gone midterm fifty seven fifty seven media great good question nobody asked eighty three eighty three kids pretty good war swirling sand son saying even courage lot wiggle room desire operate show class participate degree straight fair sort wrapped around campus white yellow less yes jack reese fair ju easy curious flu roche chavez morale soour tenants course small participate sins big susanna filibuster credit yeah budget credit would love much colonel said give continue handle hunches said believe take every inch deserve credit said measure extra credit hi hello day master way white hate hello going right twelve page paper industrial revolution warning equally brought topic choice requests managing seven year ban phone s. u. issues pigeons meeting said understand governors mccombs painting suitable page paper falls within romo beneath call us opposite anything wanted jerome diagram power math department enormous stephanie toes one girlfriend frustrated little angry said gary professor lewis gary sex may wish pajamas broke character furious doubts whether sweating balls looking daniel day lewis put little artistic first though appreciate sex tonight got bottle stopped ways parents monica huh wan na session point wanted better student went bed care papers grade new ideas flyers warner futures market came conclusion humid air article new york times two black holes colliding comet galaxy three half billion light years away house located palm come signs nonfiction add black holes running deserted village could time travel go one supposedly common read oracle gon na make happy homes middle three sentences stopped malice look ca look every word without viable strategy notes one smart lucky disappointed young idaho someday understand days understand home going outside hive ship smart enough stuff enough knowledge house postmark one kit alms figure smart one odd god right early put smart enough unhappy like awaited ignorance bliss right white house noble slave lives know much enough anything onset predicament use last night new lows gone eating ice cream fork ice cream forty four trains ice cream indication life chaos nobody would issue together eating ice cream stabbing ice cream fourth like like several spoons amusing afford eat ice cream sometimes blood wants school ha ha one moved yet shower yeah right right notthe top sheet bed public warm much laundry watch movie depressed people talk jeeves fork ice cream cup unbelievable extrapolate whole world fork burns ice cream told much person fort drum smolinski like need look iphone know cracked white find thing fork keeping eyes fork finish whole trying fill us deepen pot point plight ice cream way get last last last pablo ice cream bottom liquid ended spoon could bring civil suit action four kids impossible look times fortunate painful enough physically dead ms laughed laughed forty ice-cream leaders believe gone right people saved lid fordice even want lady never joining forces carnegie ever gone gon na go back freezer even make freezer store side though side spectrum people erased fort eat ice cream thing scooped car separate school bring ice cream another setting put cover packet free us cooper many fences lever side delicately places ice cream wall words ice cream painted sock side world owes us ice cream eaters accent group anxious get far interest people never experienced anxiety explain perfectly know feeling think phone pocket stomach v. get one finding pocket battling almighty took turn like feel like day long idea never find fault right amateur invited hate half gave hap thanked fifth fifth kid like get quick second squeeze southwest things lets create beautiful web sites sunday questions square things twenty four seven customer service inside eighth ninth somebody help get packing heat mom twenty four seven flat pain eon paisley et cum author good com slash quintero free trial day get ten percent thing offered clean swears sandlin unmoved depth half half man half iowa laughed seo think next act hilarious says super funny favorite bees arm well minuses rushes shares snake bees permit new album get itunes leave aside anaheim hands friday lock given good howard huff failed half white house say feeling one thought poetry star fact snap fingers love get sick let audience emerald city ever cut looking warble follicle tavernon seventeen ounces senior high school band leg greenway different getters lake make haitian everybody lying whore shima people begun howled bathroom fat good could think really need conference ryan cia arranged polish exactly say make haitian wake flag life happening best winning hand thought old like guidance counsellor white kids serious within seventy nine holes queue whole zip codes law might get rid getting subconscious pull miami think got indexes miami looking beautiful air warrant palm trees lafarge like pineapples insisted gloria estefan flying everywhere live man gon na atlanta committee fucking get chance new ways village linked radiant people show book review without rate mostly pads amazing going national university ways wish end ashley going finally said school go goodly drugs international enough word like go class people relate english zelda one long american mother love miami felt like hall also visited nineties sounds like rebecca wanted gangs edition leg basically colonial times light weight liner around white black minor like frost collars denying longtime sit like mount handed like blocking back pocket nevada ready hands would go around saying lied day one us movie like add like lot elegant let sell also love dance like chez labelle want like flag girl eleven dry land would like pack day thoughtless outlay mao way mounted one hand signals many moves get back inside compound time bought place sells lake seventeen hand hands one one night displays like snake twenty lying budget grape soda pop fathers back across road fucking beautiful tall yeah like curly hair like inflate mcknight hills liked baggy clothes dislike apollo everything mean like clear shit like additional sleep insisted crucifix southwick outland interface hands cite thousand everytime began susan look like fishing vest oddly enough shall sleep see dislike fear like new like either member first love wheeling high-school happens guys ever launched white knight everyone dead ends first love name eric animate contact thing close u. s. led lead held would moves like call repeat like type lights office neck else like yeah like run around commandant slack relentless snow amazing plan a. ad night exchange beeper numbers get love mid nineties hands like hit point harken realized mazda protege one car pleased mother torricelli dawn could stop talking phone know gon na college college worked best buy student best lines shelf pull want win together time commandant one link moving really buy hands b. c. cheesecake factory hands know get place beige carpet white wine sunlight thought pan lever everything like julie like fear like everything first time ever could come see facebook know-how know white also iran found aides idea talking greenhouse cite direction back looking wonderful every last three years saying anyone says lake amazing really thinking names kids bullshit every less house look like house friend house anybody else house like pages delhi graduation field trips grow tunnels shade like day cameras phoned way get developed cut make collage heinous sin room governor would get doubles indeed runyan go girl homelands great light glossy man cool yeah mean end think aged seven thirty five like eric need get collage came point global life ought allow new friends hear ended past week needed lines hid pink parenting pocket cool one night really crazy dream come link enhanced seafood hands manager eric never graduated high school never saw like every school picture thought thought injury know moment would get back kill pull next day els ita dream going graduate high school musical madame michel graduate high school said cry little bitch good looking man enticing michelle better read well also like thank talking man eats crazy story love seriously let ads ca get health balance got caught thought mad mad think larry thinking dick illiteracy salem pop bio bio whatsoever ministries story dad knew passed away like might yes stand left us budget amman worked three jobs schoolbooks else present never fucking notice side never read well known onto rank decide much c. working issue love asked love think pat ricki lake notion adam really work right appreciate sal kind time like break argument sizing issue like plague us look everything made hands know gon na really go buddy also visited relationship like hellthough ever malaysia would cease let year break somebody use way comparable abusive father flat replied liking dear always part family vainly cruise bahamas making everyone enough want know coming town recap dismay upon everything know graduated college still kind together love start lovely different person might come right away college thought best lazily continuing biggest five cell phone stole spring think musical lot hot kinda carmela soprano white house ought know mild cellphone love like cool anything mean points book won grammy exactly alike brain girls hand goes eric go issue noble hour ago going real long time knew flat look upon like angela bassett mo mae awaits male jenna new oil slick shoop shoop homicide knows guy get love green black girls get rest allied fact stuff playing demo sell talking far behind bombing hamas cell phone resilient handcuff said shit wish leg natty worst enemy without know know know everything lying know grandma parties marge garrison guys go jamaica bertie derek house seen parents thought every room yes bed hooked hung fall imprisoned lisette pilot limits even said white car wang sushi fact thought feeling reading village voice ziad comedy else common dish ends santa monica stds later job buffers represent devereaux one year case know beds lines disney world lining ex-boyfriend three hours awaiting many rioting know-how really get first aids good good particles like yes start tilted blocking official eight could careful using first last name one find anyone thought somehow tactic aha hop half frank craven name name felt end mean lot seven calm plan last answer sing badly peasants outs file one piece get theo police babies top team also includes jim poignant policy even fill mosque stand theme music like variety pup sell like due land black greathouse dome next episode come insanity think call savalas twitter build queens member weeks bringing exclusive hills crime scenes recordings quickly contest must think rarely re re re air usable ignoble queens supported swiss based helping anyone bring eighties life line beautiful way learn free trial swiss based compacts last queen'"
      ]
     },
     "execution_count": 48,
     "metadata": {},
     "output_type": "execute_result"
    }
   ],
   "source": [
    "def remove_stop_words(row):\n",
    "    tokens = word_tokenize(str(row))\n",
    "    tokens = [w for w in tokens if not w in stop]\n",
    "    tokens = [word for word in tokens if not \"'\" in word]\n",
    "    return ' '.join(tokens)\n",
    "\n",
    "x = df['transcribed'].ix[0]\n",
    "df['transcribed'].ix[0]\n"
   ]
  },
  {
   "cell_type": "code",
   "execution_count": 22,
   "metadata": {
    "collapsed": false
   },
   "outputs": [
    {
     "data": {
      "text/plain": [
       "[(\"'s\", 126),\n",
       " ('like', 124),\n",
       " (\"n't\", 85),\n",
       " ('know', 53),\n",
       " ('think', 39),\n",
       " ('get', 37),\n",
       " ('one', 36),\n",
       " (\"'m\", 30),\n",
       " (\"'re\", 28),\n",
       " ('white', 24),\n",
       " ('man', 23),\n",
       " ('really', 23),\n",
       " (\"'d\", 22),\n",
       " ('yeah', 21),\n",
       " ('see', 20),\n",
       " ('said', 17),\n",
       " ('night', 17),\n",
       " ('right', 17),\n",
       " ('love', 17),\n",
       " ('want', 16),\n",
       " ('mean', 16),\n",
       " ('back', 16),\n",
       " ('ice', 15),\n",
       " ('oh', 15),\n",
       " ('cream', 15)]"
      ]
     },
     "execution_count": 22,
     "metadata": {},
     "output_type": "execute_result"
    }
   ],
   "source": [
    "fdist.most_common(25)"
   ]
  },
  {
   "cell_type": "code",
   "execution_count": null,
   "metadata": {
    "collapsed": true
   },
   "outputs": [],
   "source": []
  }
 ],
 "metadata": {
  "kernelspec": {
   "display_name": "Python 2",
   "language": "python",
   "name": "python2"
  },
  "language_info": {
   "codemirror_mode": {
    "name": "ipython",
    "version": 2
   },
   "file_extension": ".py",
   "mimetype": "text/x-python",
   "name": "python",
   "nbconvert_exporter": "python",
   "pygments_lexer": "ipython2",
   "version": "2.7.11"
  }
 },
 "nbformat": 4,
 "nbformat_minor": 0
}
