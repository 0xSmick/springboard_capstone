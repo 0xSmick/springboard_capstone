{
 "cells": [
  {
   "cell_type": "code",
   "execution_count": 7,
   "metadata": {
    "collapsed": false
   },
   "outputs": [],
   "source": [
    "from nltk.corpus import stopwords\n",
    "from collections import Counter\n",
    "import pandas as pd\n",
    "import numpy as np\n",
    "import nltk.data\n",
    "from __future__ import division  # Python 2 users only\n",
    "import nltk, re, pprint\n",
    "from nltk import word_tokenize"
   ]
  },
  {
   "cell_type": "markdown",
   "metadata": {},
   "source": [
    "## Open the files"
   ]
  },
  {
   "cell_type": "code",
   "execution_count": 16,
   "metadata": {
    "collapsed": false
   },
   "outputs": [
    {
     "data": {
      "text/plain": [
       "str"
      ]
     },
     "execution_count": 16,
     "metadata": {},
     "output_type": "execute_result"
    }
   ],
   "source": [
    "cmu_trans = open('transcription_cmu.txt','rU').read()\n",
    "wat_trans = open('transcription_watson_2.txt','rU').read()\n",
    "stop = set(stopwords.words('english'))"
   ]
  },
  {
   "cell_type": "markdown",
   "metadata": {},
   "source": [
    "# Tokenize and lower"
   ]
  },
  {
   "cell_type": "code",
   "execution_count": 92,
   "metadata": {
    "collapsed": false
   },
   "outputs": [],
   "source": [
    "def tokenize_and_lower(textfile):\n",
    "    tokens = word_tokenize(textfile)\n",
    "    lower = [w.lower() for w in tokens]\n",
    "    filtered_words = [word for word in lower if word not in stop]\n",
    "    series = pd.Series(filtered_words)\n",
    "    return series\n",
    "\n",
    "'''def keep_stop_words(textfile):\n",
    "    tokens = word_tokenize(textfile)\n",
    "    lower = [w.lower() for w in tokens]\n",
    "    nonfiltered_words = [word for word in lower if word in stop]\n",
    "    series = pd.Series(nonfiltered_words)\n",
    "    return series\n",
    "#cmu_stop = keep_stop_words(cmu_trans)\n",
    "#wat_stop = keep_stop_words(wat_trans)'''"
   ]
  },
  {
   "cell_type": "markdown",
   "metadata": {},
   "source": [
    "# Compare Results with value_counts"
   ]
  },
  {
   "cell_type": "code",
   "execution_count": 119,
   "metadata": {
    "collapsed": false
   },
   "outputs": [],
   "source": [
    "cmu = tokenize_and_lower(cmu_trans)\n",
    "wat = tokenize_and_lower(wat_trans)\n",
    "cmu = pd.Series.to_frame(cmu)\n",
    "wat = pd.Series.to_frame(wat)\n",
    "cmu.columns = [['words']]\n",
    "wat.columns = [['words']]\n",
    "cmu = cmu.groupby('words').size().reset_index()\n",
    "wat = wat.groupby('words').size().reset_index()\n",
    "df = pd.merge(cmu, wat, on='words')\n",
    "df.columns = [['words','cmu','wat']]\n",
    "df['cmu_diff_wat'] = df.cmu - df.wat"
   ]
  },
  {
   "cell_type": "code",
   "execution_count": 126,
   "metadata": {
    "collapsed": false
   },
   "outputs": [
    {
     "data": {
      "text/plain": [
       "<matplotlib.axes._subplots.AxesSubplot at 0x10dd7d690>"
      ]
     },
     "execution_count": 126,
     "metadata": {},
     "output_type": "execute_result"
    },
    {
     "data": {
      "image/png": "[encoded data removed]",
      "text/plain": [
       "<matplotlib.figure.Figure at 0x10de13910>"
      ]
     },
     "metadata": {},
     "output_type": "display_data"
    }
   ],
   "source": [
    "%matplotlib inline\n",
    "df.cmu_diff_wat.value_counts().plot(kind='bar')"
   ]
  },
  {
   "cell_type": "code",
   "execution_count": 125,
   "metadata": {
    "collapsed": false
   },
   "outputs": [
    {
     "data": {
      "text/plain": [
       " 0    143\n",
       "-1     17\n",
       " 1     14\n",
       "-2      5\n",
       " 2      3\n",
       "-4      2\n",
       " 3      1\n",
       "-6      1\n",
       "Name: cmu_diff_wat, dtype: int64"
      ]
     },
     "execution_count": 125,
     "metadata": {},
     "output_type": "execute_result"
    }
   ],
   "source": [
    "df.cmu_diff_wat.value_counts()"
   ]
  }
 ],
 "metadata": {
  "kernelspec": {
   "display_name": "Python 2",
   "language": "python",
   "name": "python2"
  },
  "language_info": {
   "codemirror_mode": {
    "name": "ipython",
    "version": 2
   },
   "file_extension": ".py",
   "mimetype": "text/x-python",
   "name": "python",
   "nbconvert_exporter": "python",
   "pygments_lexer": "ipython2",
   "version": "2.7.11"
  }
 },
 "nbformat": 4,
 "nbformat_minor": 0
}
